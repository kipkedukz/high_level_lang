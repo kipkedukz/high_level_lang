{
 "cells": [
  {
   "cell_type": "code",
   "execution_count": null,
   "metadata": {},
   "outputs": [],
   "source": [
    "'''https://all-python.ru/primery/kalkulyator.html Ссылка на оригинальный код'''"
   ]
  },
  {
   "cell_type": "code",
   "execution_count": 1,
   "metadata": {},
   "outputs": [],
   "source": [
    "from tkinter import *\n",
    "from decimal import *\n",
    "\n",
    "root = Tk()\n",
    "root.title('Calculator')\n",
    "\n",
    "buttons = (('7', '8', '9', '/', '4'),\n",
    "           ('4', '5', '6', '*', '4'),\n",
    "           ('1', '2', '3', '-', '4'),\n",
    "           ('0', '.', '=', '+', '4')\n",
    "           )\n",
    "\n",
    "activeStr = ''\n",
    "stack = []"
   ]
  },
  {
   "cell_type": "code",
   "execution_count": 2,
   "metadata": {},
   "outputs": [],
   "source": [
    "def calculate():\n",
    "    global stack\n",
    "    global label\n",
    "    result = 0\n",
    "    operand2 = Decimal(stack.pop())\n",
    "    operation = stack.pop()\n",
    "    operand1 = Decimal(stack.pop())\n",
    "\n",
    "    if operation == '+':\n",
    "        result = operand1 + operand2\n",
    "    if operation == '-':\n",
    "        result = operand1 - operand2\n",
    "    if operation == '/':\n",
    "        result = operand1 / operand2\n",
    "    if operation == '*':\n",
    "        result = operand1 * operand2\n",
    "    label.configure(text=str(result))"
   ]
  },
  {
   "cell_type": "code",
   "execution_count": 3,
   "metadata": {},
   "outputs": [],
   "source": [
    "def click(text):\n",
    "    global activeStr\n",
    "    global stack\n",
    "    if text == 'CE':\n",
    "        stack.clear()\n",
    "        activeStr = ''\n",
    "        label.configure(text='0')\n",
    "    elif '0' <= text <= '9':\n",
    "        activeStr += text\n",
    "        label.configure(text=activeStr)\n",
    "    elif text == '.':\n",
    "        if activeStr.find('.') == -1:\n",
    "            activeStr += text\n",
    "            label.configure(text=activeStr)\n",
    "    else:\n",
    "        if len(stack) >= 2:\n",
    "            stack.append(label['text'])\n",
    "            calculate()\n",
    "            stack.clear()\n",
    "            stack.append(label['text'])\n",
    "            activeStr = ''\n",
    "            if text != '=':\n",
    "                stack.append(text)\n",
    "        else:\n",
    "            if text != '=':\n",
    "                stack.append(label['text'])\n",
    "                stack.append(text)\n",
    "                activeStr = ''\n",
    "                label.configure(text='0')"
   ]
  },
  {
   "cell_type": "code",
   "execution_count": 4,
   "metadata": {},
   "outputs": [],
   "source": [
    "label = Label(root, text='0', width=35)\n",
    "label.grid(row=0, column=0, columnspan=4, sticky=\"nsew\")\n",
    "\n",
    "button = Button(root, text='CE', command=lambda text='CE': click(text))\n",
    "button.grid(row=1, column=3, sticky=\"nsew\")\n",
    "for row in range(4):\n",
    "    for col in range(4):\n",
    "        button = Button(root, text=buttons[row][col],\n",
    "                command=lambda row=row, col=col: click(buttons[row][col]))\n",
    "        button.grid(row=row + 2, column=col, sticky=\"nsew\")\n",
    "\n",
    "root.grid_rowconfigure(6, weight=1)\n",
    "root.grid_columnconfigure(4, weight=1)\n",
    "\n",
    "root.mainloop()"
   ]
  },
  {
   "cell_type": "code",
   "execution_count": null,
   "metadata": {},
   "outputs": [],
   "source": []
  }
 ],
 "metadata": {
  "kernelspec": {
   "display_name": "Python 3",
   "language": "python",
   "name": "python3"
  },
  "language_info": {
   "codemirror_mode": {
    "name": "ipython",
    "version": 3
   },
   "file_extension": ".py",
   "mimetype": "text/x-python",
   "name": "python",
   "nbconvert_exporter": "python",
   "pygments_lexer": "ipython3",
   "version": "3.7.6"
  }
 },
 "nbformat": 4,
 "nbformat_minor": 4
}
